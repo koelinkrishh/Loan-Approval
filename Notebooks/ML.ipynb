{
  "cells": [
    {
      "cell_type": "markdown",
      "metadata": {
        "id": "pP7v2DRtAoFn"
      },
      "source": [
        "### Machine Learning Model Training and Evaluation:"
      ]
    },
    {
      "cell_type": "code",
      "execution_count": null,
      "metadata": {
        "id": "XLk9SgeIAoFs"
      },
      "outputs": [],
      "source": [
        "import numpy as np\n",
        "import pandas as pd\n",
        "import kerastuner as kt"
      ]
    },
    {
      "cell_type": "code",
      "execution_count": null,
      "metadata": {
        "colab": {
          "base_uri": "https://localhost:8080/",
          "height": 224
        },
        "id": "8lsqpaxlAoFt",
        "outputId": "3683daad-749b-4456-c8c3-63ada5d3cbce"
      },
      "outputs": [],
      "source": [
        "# Importing Transformed Dataset:\n",
        "df = pd.read_csv('../Dataset/Loan_default_transformed.csv')\n",
        "df.sample(4)"
      ]
    },
    {
      "cell_type": "code",
      "execution_count": null,
      "metadata": {
        "colab": {
          "base_uri": "https://localhost:8080/",
          "height": 99
        },
        "id": "nVXYlerTzecK",
        "outputId": "d4f63321-5fdc-4b42-b3fc-e34310fbc052"
      },
      "outputs": [],
      "source": [
        "df[df.isnull().any(axis=1)]"
      ]
    },
    {
      "cell_type": "code",
      "execution_count": null,
      "metadata": {
        "colab": {
          "base_uri": "https://localhost:8080/"
        },
        "id": "zLWOxjSvAoFv",
        "outputId": "2a729ae5-5981-496a-f8ce-e23cefbd0f4c"
      },
      "outputs": [],
      "source": [
        "## Splitting the Dataset:\n",
        "X = df.drop('Default',axis=1)\n",
        "y = df[['Default']]\n",
        "\n",
        "from sklearn.model_selection import train_test_split\n",
        "X_train,X_test, y_train,y_test = train_test_split(X,y,test_size=0.2)\n",
        "X_train.shape, X_test.shape, y_train.shape, y_test.shape"
      ]
    },
    {
      "cell_type": "markdown",
      "metadata": {
        "id": "f-PFriT_AoFv"
      },
      "source": [
        "#### Create an Evaluate Function to give all metrics after model Training:"
      ]
    },
    {
      "cell_type": "code",
      "execution_count": null,
      "metadata": {
        "id": "F6qoR6CXAoFw"
      },
      "outputs": [],
      "source": [
        "## All classification models:\n",
        "from sklearn.linear_model import LogisticRegression\n",
        "from sklearn.tree import DecisionTreeClassifier\n",
        "from sklearn.svm import SVC\n",
        "from sklearn.naive_bayes import GaussianNB\n",
        "from sklearn.neighbors import KNeighborsClassifier\n",
        "from sklearn.ensemble import AdaBoostClassifier\n",
        "from sklearn.ensemble import GradientBoostingClassifier\n",
        "from xgboost import XGBClassifier\n",
        "\n",
        "models = {\n",
        "   'Logistic Regression': LogisticRegression(),\n",
        "   'Decision Tree': DecisionTreeClassifier(),\n",
        "   # 'SVM': SVC(),\n",
        "   'Guassian': GaussianNB(),\n",
        "   # 'KNN': KNeighborsClassifier(),\n",
        "   'AdaBoost': AdaBoostClassifier(),\n",
        "   'Gradient Boost': GradientBoostingClassifier(),\n",
        "   'XGBoost': XGBClassifier()\n",
        "}"
      ]
    },
    {
      "cell_type": "code",
      "execution_count": null,
      "metadata": {
        "id": "Lk2_k5cxAoFx"
      },
      "outputs": [],
      "source": [
        "from sklearn.metrics import accuracy_score\n",
        "\n",
        "model_list = []\n",
        "acc_list = []\n",
        "\n",
        "## Fit each model, predict and store it with model's accuracy\n",
        "for name, model in models.items():\n",
        "   # Fitting model\n",
        "   model.fit(X_train,y_train.values.ravel())\n",
        "   # Prediction\n",
        "   y_pred = model.predict(X_test)\n",
        "   \n",
        "   acc = accuracy_score(y_test,y_pred)\n",
        "   model_list.append(name)\n",
        "   acc_list.append(acc)\n",
        "   \n",
        "   print(f'Model performance of {name} for Test set')\n",
        "   print(\"- Accuracy score: {:.4f}\".format(acc))\n",
        "   \n",
        "   print('='*35)\n",
        "   print('\\n')"
      ]
    },
    {
      "cell_type": "markdown",
      "metadata": {
        "id": "EeqH9o-YCnU-"
      },
      "source": [
        "XGboost and Logistic Regression came out to best models"
      ]
    },
    {
      "cell_type": "code",
      "execution_count": null,
      "metadata": {
        "id": "sCpJuDH7AoFx"
      },
      "outputs": [],
      "source": [
        "## Fitting Logistic Regression to its best:\n",
        "LR = LogisticRegression()\n",
        "\n",
        "param_grid = [\n",
        "   {\n",
        "      'penalty': ['l1', 'l2'],\n",
        "      'solver': ['liblinear'],  # Only solvers that support l1 and elasticnet\n",
        "      'max_iter': [100, 200, 500]\n",
        "   },  {\n",
        "      'penalty': ['l2'],\n",
        "      'solver': ['lbfgs', 'newton-cg', 'sag'],  # solvers that only support l2\n",
        "      'max_iter': [100, 200, 500]\n",
        "   },  {\n",
        "      'penalty': ['l1','l2','elasticnet'],\n",
        "      'solver': ['saga'],  # solvers that only support l2\n",
        "      'max_iter': [100, 200, 500],\n",
        "      'l1_ratio': [0.1, 0.5, 0.9],\n",
        "   }\n",
        "]"
      ]
    },
    {
      "cell_type": "code",
      "execution_count": null,
      "metadata": {
        "id": "Uqm6Lmh9Z0TS"
      },
      "outputs": [],
      "source": [
        "from sklearn.model_selection import RandomizedSearchCV, GridSearchCV\n",
        "\n",
        "clf = GridSearchCV(LR, param_grid=param_grid, cv=3, verbose=2, n_jobs=-1, error_score='raise')\n",
        "best_LR = clf.fit(X_train, y_train.values.ravel())"
      ]
    },
    {
      "cell_type": "code",
      "execution_count": null,
      "metadata": {
        "id": "1sIGIWNPxZF6"
      },
      "outputs": [],
      "source": [
        "Best_LR = best_LR.best_params_\n",
        "\n",
        "# Get the best parameters and score\n",
        "print(\"Best parameters found: \", Best_LR)\n",
        "\n",
        "pred_LR = best_LR.predict(X_test)\n",
        "print(\"Best Accuracy from Logistic Regression: \", accuracy_score(y_test, pred_LR))"
      ]
    },
    {
      "cell_type": "code",
      "execution_count": null,
      "metadata": {
        "id": "qAOgB5EgjbCd"
      },
      "outputs": [],
      "source": [
        "## Parameters for XGBoost\n",
        "Param_dict = {\n",
        "   'max_depth': [3, 4, 5, 6, 8, 10],\n",
        "   'min_child_weight': [3, 5, 7],\n",
        "   'gamma': [0, 0.1, 0.2, 0.3, 0.4],\n",
        "   'max_iter': [100, 200, 500],\n",
        "}"
      ]
    },
    {
      "cell_type": "code",
      "execution_count": null,
      "metadata": {
        "id": "XFGvritHeDYa"
      },
      "outputs": [],
      "source": [
        "from sklearn.model_selection import RandomizedSearchCV\n",
        "\n",
        "XG = XGBClassifier()\n",
        "\n",
        "clf = RandomizedSearchCV(XG, param_distributions=Param_dict, n_iter=30, cv=3, verbose=2, n_jobs=-1)\n",
        "best_XG = clf.fit(X_train, y_train.values.reshape(-1,1))"
      ]
    },
    {
      "cell_type": "code",
      "execution_count": null,
      "metadata": {
        "id": "6DhBgLV3msKT"
      },
      "outputs": [],
      "source": [
        "Best_XG = best_XG.best_params_\n",
        "\n",
        "# Get the best parameters and score\n",
        "print(\"Best parameters found: \", Best_XG)\n",
        "\n",
        "pred_XG = best_XG.predict(X_test)\n",
        "print(\"Best Accuracy XGBoost: \", accuracy_score(y_test, pred_XG))"
      ]
    },
    {
      "cell_type": "markdown",
      "metadata": {
        "id": "pltZTWku1tYc"
      },
      "source": [
        "#### Now, We will Fit a Neural Network for Same problem and compare its performance with Normal Machine Learning:"
      ]
    },
    {
      "cell_type": "code",
      "execution_count": null,
      "metadata": {
        "id": "88BwbpZx0A0j"
      },
      "outputs": [],
      "source": [
        "import tensorflow as tf\n",
        "from tensorflow import keras as kr\n",
        "# import optuna"
      ]
    },
    {
      "cell_type": "code",
      "execution_count": null,
      "metadata": {
        "id": "RDbikC_q2CWa"
      },
      "outputs": [],
      "source": [
        "## Creating Neural Network:\n",
        "model = kr.Sequential() # Network base\n",
        "model.add(kr.layers.Input(shape=(20,))) # Input layer\n",
        "\n",
        "## Neural Network\n",
        "# model.add(kr.layers.Dense(256, activation='relu'))\n",
        "model.add(kr.layers.Dense(128, activation='relu'))\n",
        "model.add(kr.layers.Dense(64, activation='relu'))\n",
        "model.add(kr.layers.Dense(32, activation='relu'))\n",
        "model.add(kr.layers.Dense(16, activation='relu'))\n",
        "\n",
        "## Output layer\n",
        "model.add(kr.layers.Dense(1, activation='sigmoid'))"
      ]
    },
    {
      "cell_type": "code",
      "execution_count": null,
      "metadata": {
        "colab": {
          "base_uri": "https://localhost:8080/",
          "height": 289
        },
        "id": "nlxYv3Hi8laD",
        "outputId": "adedcbb1-d8ef-4666-beab-2d5cebc01186"
      },
      "outputs": [],
      "source": [
        "model.summary()"
      ]
    },
    {
      "cell_type": "code",
      "execution_count": null,
      "metadata": {
        "colab": {
          "base_uri": "https://localhost:8080/"
        },
        "id": "Z0Ne5FuW7AW7",
        "outputId": "0ebf94a8-dbde-4ffb-c3d9-8458d941c901"
      },
      "outputs": [],
      "source": [
        "model.compile(loss='binary_crossentropy', optimizer='adam', metrics=['accuracy'], )\n",
        "\n",
        "model.fit(X_train, y_train, epochs=20, batch_size=32, validation_data=(X_test, y_test))"
      ]
    },
    {
      "cell_type": "code",
      "execution_count": null,
      "metadata": {
        "id": "bI4gGb6p4rtc"
      },
      "outputs": [],
      "source": [
        "pred_ANN = model.predict(X_test)\n",
        "pred_ANN_labels = (pred_ANN > 0.5).astype(int)\n",
        "\n",
        "print(\"Best Accuracy Neural Network: \", accuracy_score(y_test, pred_ANN_labels))"
      ]
    },
    {
      "cell_type": "markdown",
      "metadata": {
        "id": "K_kN4e2Y47Lb"
      },
      "source": [
        "Now, we will Tune this Neural Network:"
      ]
    },
    {
      "cell_type": "code",
      "execution_count": null,
      "metadata": {
        "id": "nkAPn-ky6AbA"
      },
      "outputs": [],
      "source": [
        "## Function to build mode using various values from hyperparameters\n",
        "def Build_best_classifier(hp):\n",
        "   model = kr.Sequential()\n",
        "   model.add(kr.Input(shape=(20,)))\n",
        "   \n",
        "   for i in range(hp.Int('num_layers', min_value=1, max_value=5)):\n",
        "      ## Adding model layer structure\n",
        "      model.add(kr.layers.Dense(units=hp.Int(\"Unit_count\",16,128, step=16),\n",
        "         kernel_initializer='he_normal', kernel_regularizer=kr.regularizers.l2(0.01))\n",
        "      )\n",
        "      \n",
        "      ## Adding activation func and batch normalizer\n",
        "      model.add(kr.layers.LeakyReLU(negative_slope=0.2))\n",
        "      model.add(kr.layers.BatchNormalization())\n",
        "      \n",
        "      ## Adding a dropout layer\n",
        "      rate = hp.Float('rate', min_value=0.0, max_value=0.5, step=0.1)\n",
        "      if hp.Boolean('dropout'):\n",
        "         model.add(kr.layers.Dropout(rate))\n",
        "      \n",
        "   ## Output layer\n",
        "   model.add(kr.layers.Dense(1, activation='sigmoid'))\n",
        "   \n",
        "   model.compile(optimizer=kr.optimizers.Adam(hp.Choice('learning_rate', [0.1, 1e-2, 1e-3])), loss='binary_crossentropy', metrics=['accuracy'])\n",
        "   \n",
        "   return model"
      ]
    },
    {
      "cell_type": "code",
      "execution_count": null,
      "metadata": {
        "id": "49a3kb5tYuzx"
      },
      "outputs": [],
      "source": [
        "tuner = kt.RandomSearch(Build_best_classifier, objective='val_accuracy', max_trials=10, directory='project', project_name='Loan_default')\n",
        "\n",
        "## Fitting model\n",
        "tuner.search(X_train, y_train, epochs=2, validation_data=(X_test,y_test))"
      ]
    },
    {
      "cell_type": "markdown",
      "metadata": {},
      "source": [
        "> #### Note:  Hyper tuning Neural network or even using ANN dont show any significant improvement. <br> XGBoost gives Best accuracy with less computations."
      ]
    }
  ],
  "metadata": {
    "accelerator": "GPU",
    "colab": {
      "gpuType": "T4",
      "provenance": []
    },
    "kernelspec": {
      "display_name": "Python (Loan Prediction)",
      "language": "python",
      "name": "virtualenv"
    },
    "language_info": {
      "codemirror_mode": {
        "name": "ipython",
        "version": 3
      },
      "file_extension": ".py",
      "mimetype": "text/x-python",
      "name": "python",
      "nbconvert_exporter": "python",
      "pygments_lexer": "ipython3",
      "version": "3.11.9"
    }
  },
  "nbformat": 4,
  "nbformat_minor": 0
}
