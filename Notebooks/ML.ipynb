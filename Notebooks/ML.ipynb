{
  "cells": [
    {
      "cell_type": "markdown",
      "metadata": {
        "id": "pP7v2DRtAoFn"
      },
      "source": [
        "### Machine Learning Model Training and Evaluation:"
      ]
    },
    {
      "cell_type": "code",
      "execution_count": 1,
      "metadata": {
        "id": "XLk9SgeIAoFs"
      },
      "outputs": [
        {
          "name": "stderr",
          "output_type": "stream",
          "text": [
            "C:\\Users\\koeli\\AppData\\Local\\Temp\\ipykernel_14784\\3930637375.py:3: DeprecationWarning: `import kerastuner` is deprecated, please use `import keras_tuner`.\n",
            "  import kerastuner as kt\n"
          ]
        }
      ],
      "source": [
        "import numpy as np\n",
        "import pandas as pd\n",
        "import kerastuner as kt"
      ]
    },
    {
      "cell_type": "code",
      "execution_count": 2,
      "metadata": {
        "colab": {
          "base_uri": "https://localhost:8080/",
          "height": 224
        },
        "id": "8lsqpaxlAoFt",
        "outputId": "3683daad-749b-4456-c8c3-63ada5d3cbce"
      },
      "outputs": [
        {
          "data": {
            "text/html": [
              "<div>\n",
              "<style scoped>\n",
              "    .dataframe tbody tr th:only-of-type {\n",
              "        vertical-align: middle;\n",
              "    }\n",
              "\n",
              "    .dataframe tbody tr th {\n",
              "        vertical-align: top;\n",
              "    }\n",
              "\n",
              "    .dataframe thead th {\n",
              "        text-align: right;\n",
              "    }\n",
              "</style>\n",
              "<table border=\"1\" class=\"dataframe\">\n",
              "  <thead>\n",
              "    <tr style=\"text-align: right;\">\n",
              "      <th></th>\n",
              "      <th>Age</th>\n",
              "      <th>Income</th>\n",
              "      <th>LoanAmount</th>\n",
              "      <th>CreditScore</th>\n",
              "      <th>MonthsEmployed</th>\n",
              "      <th>NumCreditLines</th>\n",
              "      <th>InterestRate</th>\n",
              "      <th>LoanTerm</th>\n",
              "      <th>DTIRatio</th>\n",
              "      <th>Education</th>\n",
              "      <th>...</th>\n",
              "      <th>HasMortgage</th>\n",
              "      <th>HasDependents</th>\n",
              "      <th>HasCoSigner</th>\n",
              "      <th>Default</th>\n",
              "      <th>MaritalStatus_Married</th>\n",
              "      <th>MaritalStatus_Single</th>\n",
              "      <th>LoanPurpose_Business</th>\n",
              "      <th>LoanPurpose_Education</th>\n",
              "      <th>LoanPurpose_Home</th>\n",
              "      <th>LoanPurpose_Other</th>\n",
              "    </tr>\n",
              "  </thead>\n",
              "  <tbody>\n",
              "    <tr>\n",
              "      <th>102139</th>\n",
              "      <td>0.076923</td>\n",
              "      <td>0.365425</td>\n",
              "      <td>0.252328</td>\n",
              "      <td>0.142077</td>\n",
              "      <td>0.823529</td>\n",
              "      <td>1.0</td>\n",
              "      <td>0.099565</td>\n",
              "      <td>1.00</td>\n",
              "      <td>0.70</td>\n",
              "      <td>1.0</td>\n",
              "      <td>...</td>\n",
              "      <td>1.0</td>\n",
              "      <td>1.0</td>\n",
              "      <td>1.0</td>\n",
              "      <td>0.0</td>\n",
              "      <td>0.0</td>\n",
              "      <td>1.0</td>\n",
              "      <td>0.0</td>\n",
              "      <td>1.0</td>\n",
              "      <td>0.0</td>\n",
              "      <td>0.0</td>\n",
              "    </tr>\n",
              "    <tr>\n",
              "      <th>107850</th>\n",
              "      <td>0.461538</td>\n",
              "      <td>0.676064</td>\n",
              "      <td>0.149650</td>\n",
              "      <td>0.881603</td>\n",
              "      <td>0.529412</td>\n",
              "      <td>1.0</td>\n",
              "      <td>0.055217</td>\n",
              "      <td>0.75</td>\n",
              "      <td>0.17</td>\n",
              "      <td>0.0</td>\n",
              "      <td>...</td>\n",
              "      <td>0.0</td>\n",
              "      <td>1.0</td>\n",
              "      <td>1.0</td>\n",
              "      <td>0.0</td>\n",
              "      <td>0.0</td>\n",
              "      <td>0.0</td>\n",
              "      <td>0.0</td>\n",
              "      <td>0.0</td>\n",
              "      <td>1.0</td>\n",
              "      <td>0.0</td>\n",
              "    </tr>\n",
              "    <tr>\n",
              "      <th>177855</th>\n",
              "      <td>0.769231</td>\n",
              "      <td>0.837651</td>\n",
              "      <td>0.505161</td>\n",
              "      <td>0.992714</td>\n",
              "      <td>0.882353</td>\n",
              "      <td>4.0</td>\n",
              "      <td>0.107826</td>\n",
              "      <td>0.50</td>\n",
              "      <td>0.41</td>\n",
              "      <td>2.0</td>\n",
              "      <td>...</td>\n",
              "      <td>0.0</td>\n",
              "      <td>0.0</td>\n",
              "      <td>1.0</td>\n",
              "      <td>0.0</td>\n",
              "      <td>0.0</td>\n",
              "      <td>0.0</td>\n",
              "      <td>1.0</td>\n",
              "      <td>0.0</td>\n",
              "      <td>0.0</td>\n",
              "      <td>0.0</td>\n",
              "    </tr>\n",
              "    <tr>\n",
              "      <th>120623</th>\n",
              "      <td>0.538462</td>\n",
              "      <td>0.331765</td>\n",
              "      <td>0.961730</td>\n",
              "      <td>0.819672</td>\n",
              "      <td>0.042017</td>\n",
              "      <td>3.0</td>\n",
              "      <td>0.428696</td>\n",
              "      <td>1.00</td>\n",
              "      <td>0.28</td>\n",
              "      <td>3.0</td>\n",
              "      <td>...</td>\n",
              "      <td>1.0</td>\n",
              "      <td>0.0</td>\n",
              "      <td>1.0</td>\n",
              "      <td>0.0</td>\n",
              "      <td>0.0</td>\n",
              "      <td>1.0</td>\n",
              "      <td>0.0</td>\n",
              "      <td>0.0</td>\n",
              "      <td>0.0</td>\n",
              "      <td>0.0</td>\n",
              "    </tr>\n",
              "  </tbody>\n",
              "</table>\n",
              "<p>4 rows × 21 columns</p>\n",
              "</div>"
            ],
            "text/plain": [
              "             Age    Income  LoanAmount  CreditScore  MonthsEmployed  \\\n",
              "102139  0.076923  0.365425    0.252328     0.142077        0.823529   \n",
              "107850  0.461538  0.676064    0.149650     0.881603        0.529412   \n",
              "177855  0.769231  0.837651    0.505161     0.992714        0.882353   \n",
              "120623  0.538462  0.331765    0.961730     0.819672        0.042017   \n",
              "\n",
              "        NumCreditLines  InterestRate  LoanTerm  DTIRatio  Education  ...  \\\n",
              "102139             1.0      0.099565      1.00      0.70        1.0  ...   \n",
              "107850             1.0      0.055217      0.75      0.17        0.0  ...   \n",
              "177855             4.0      0.107826      0.50      0.41        2.0  ...   \n",
              "120623             3.0      0.428696      1.00      0.28        3.0  ...   \n",
              "\n",
              "        HasMortgage  HasDependents  HasCoSigner  Default  \\\n",
              "102139          1.0            1.0          1.0      0.0   \n",
              "107850          0.0            1.0          1.0      0.0   \n",
              "177855          0.0            0.0          1.0      0.0   \n",
              "120623          1.0            0.0          1.0      0.0   \n",
              "\n",
              "        MaritalStatus_Married  MaritalStatus_Single  LoanPurpose_Business  \\\n",
              "102139                    0.0                   1.0                   0.0   \n",
              "107850                    0.0                   0.0                   0.0   \n",
              "177855                    0.0                   0.0                   1.0   \n",
              "120623                    0.0                   1.0                   0.0   \n",
              "\n",
              "        LoanPurpose_Education  LoanPurpose_Home  LoanPurpose_Other  \n",
              "102139                    1.0               0.0                0.0  \n",
              "107850                    0.0               1.0                0.0  \n",
              "177855                    0.0               0.0                0.0  \n",
              "120623                    0.0               0.0                0.0  \n",
              "\n",
              "[4 rows x 21 columns]"
            ]
          },
          "execution_count": 2,
          "metadata": {},
          "output_type": "execute_result"
        }
      ],
      "source": [
        "# Importing Transformed Dataset:\n",
        "df = pd.read_csv('../Dataset/Loan_default_transformed.csv')\n",
        "df.sample(4)"
      ]
    },
    {
      "cell_type": "code",
      "execution_count": 3,
      "metadata": {},
      "outputs": [
        {
          "data": {
            "text/plain": [
              "Default\n",
              "0.0    225694\n",
              "1.0     29653\n",
              "Name: count, dtype: int64"
            ]
          },
          "execution_count": 3,
          "metadata": {},
          "output_type": "execute_result"
        }
      ],
      "source": [
        "df['Default'].value_counts()"
      ]
    },
    {
      "cell_type": "code",
      "execution_count": 4,
      "metadata": {},
      "outputs": [
        {
          "name": "stdout",
          "output_type": "stream",
          "text": [
            "<class 'pandas.core.frame.DataFrame'>\n",
            "RangeIndex: 255347 entries, 0 to 255346\n",
            "Data columns (total 21 columns):\n",
            " #   Column                 Non-Null Count   Dtype  \n",
            "---  ------                 --------------   -----  \n",
            " 0   Age                    255347 non-null  float64\n",
            " 1   Income                 255347 non-null  float64\n",
            " 2   LoanAmount             255347 non-null  float64\n",
            " 3   CreditScore            255347 non-null  float64\n",
            " 4   MonthsEmployed         255347 non-null  float64\n",
            " 5   NumCreditLines         255347 non-null  float64\n",
            " 6   InterestRate           255347 non-null  float64\n",
            " 7   LoanTerm               255347 non-null  float64\n",
            " 8   DTIRatio               255347 non-null  float64\n",
            " 9   Education              255347 non-null  float64\n",
            " 10  EmploymentType         255347 non-null  float64\n",
            " 11  HasMortgage            255347 non-null  float64\n",
            " 12  HasDependents          255347 non-null  float64\n",
            " 13  HasCoSigner            255347 non-null  float64\n",
            " 14  Default                255347 non-null  float64\n",
            " 15  MaritalStatus_Married  255347 non-null  float64\n",
            " 16  MaritalStatus_Single   255347 non-null  float64\n",
            " 17  LoanPurpose_Business   255347 non-null  float64\n",
            " 18  LoanPurpose_Education  255347 non-null  float64\n",
            " 19  LoanPurpose_Home       255347 non-null  float64\n",
            " 20  LoanPurpose_Other      255347 non-null  float64\n",
            "dtypes: float64(21)\n",
            "memory usage: 40.9 MB\n"
          ]
        }
      ],
      "source": [
        "df.info()"
      ]
    },
    {
      "cell_type": "code",
      "execution_count": 5,
      "metadata": {
        "colab": {
          "base_uri": "https://localhost:8080/",
          "height": 99
        },
        "id": "nVXYlerTzecK",
        "outputId": "d4f63321-5fdc-4b42-b3fc-e34310fbc052"
      },
      "outputs": [
        {
          "data": {
            "text/html": [
              "<div>\n",
              "<style scoped>\n",
              "    .dataframe tbody tr th:only-of-type {\n",
              "        vertical-align: middle;\n",
              "    }\n",
              "\n",
              "    .dataframe tbody tr th {\n",
              "        vertical-align: top;\n",
              "    }\n",
              "\n",
              "    .dataframe thead th {\n",
              "        text-align: right;\n",
              "    }\n",
              "</style>\n",
              "<table border=\"1\" class=\"dataframe\">\n",
              "  <thead>\n",
              "    <tr style=\"text-align: right;\">\n",
              "      <th></th>\n",
              "      <th>Age</th>\n",
              "      <th>Income</th>\n",
              "      <th>LoanAmount</th>\n",
              "      <th>CreditScore</th>\n",
              "      <th>MonthsEmployed</th>\n",
              "      <th>NumCreditLines</th>\n",
              "      <th>InterestRate</th>\n",
              "      <th>LoanTerm</th>\n",
              "      <th>DTIRatio</th>\n",
              "      <th>Education</th>\n",
              "      <th>...</th>\n",
              "      <th>HasMortgage</th>\n",
              "      <th>HasDependents</th>\n",
              "      <th>HasCoSigner</th>\n",
              "      <th>Default</th>\n",
              "      <th>MaritalStatus_Married</th>\n",
              "      <th>MaritalStatus_Single</th>\n",
              "      <th>LoanPurpose_Business</th>\n",
              "      <th>LoanPurpose_Education</th>\n",
              "      <th>LoanPurpose_Home</th>\n",
              "      <th>LoanPurpose_Other</th>\n",
              "    </tr>\n",
              "  </thead>\n",
              "  <tbody>\n",
              "  </tbody>\n",
              "</table>\n",
              "<p>0 rows × 21 columns</p>\n",
              "</div>"
            ],
            "text/plain": [
              "Empty DataFrame\n",
              "Columns: [Age, Income, LoanAmount, CreditScore, MonthsEmployed, NumCreditLines, InterestRate, LoanTerm, DTIRatio, Education, EmploymentType, HasMortgage, HasDependents, HasCoSigner, Default, MaritalStatus_Married, MaritalStatus_Single, LoanPurpose_Business, LoanPurpose_Education, LoanPurpose_Home, LoanPurpose_Other]\n",
              "Index: []\n",
              "\n",
              "[0 rows x 21 columns]"
            ]
          },
          "execution_count": 5,
          "metadata": {},
          "output_type": "execute_result"
        }
      ],
      "source": [
        "df[df.isnull().any(axis=1)]"
      ]
    },
    {
      "cell_type": "code",
      "execution_count": 6,
      "metadata": {},
      "outputs": [],
      "source": [
        "# Using downsampling\n",
        "from sklearn.utils import resample\n",
        "\n",
        "## Downsampling to reduce dataset size:\n",
        "df_majority = df[df['Default'] == 0]\n",
        "df_minority = df[df['Default'] == 1]\n",
        "\n",
        "df_majority = resample(df_majority, n_samples=len(df_minority),random_state=42)\n",
        "\n",
        "df = pd.concat([df_majority, df_minority])"
      ]
    },
    {
      "cell_type": "code",
      "execution_count": 7,
      "metadata": {
        "colab": {
          "base_uri": "https://localhost:8080/"
        },
        "id": "zLWOxjSvAoFv",
        "outputId": "2a729ae5-5981-496a-f8ce-e23cefbd0f4c"
      },
      "outputs": [
        {
          "data": {
            "text/plain": [
              "((47444, 20), (11862, 20), (47444, 1), (11862, 1))"
            ]
          },
          "execution_count": 7,
          "metadata": {},
          "output_type": "execute_result"
        }
      ],
      "source": [
        "## Splitting the Dataset:\n",
        "X = df.drop('Default',axis=1)\n",
        "y = df[['Default']]\n",
        "\n",
        "from sklearn.model_selection import train_test_split\n",
        "X_train,X_test, y_train,y_test = train_test_split(X,y,test_size=0.2)\n",
        "X_train.shape, X_test.shape, y_train.shape, y_test.shape"
      ]
    },
    {
      "cell_type": "markdown",
      "metadata": {},
      "source": [
        "#### Firstly, we will balance our classes using smote:"
      ]
    },
    {
      "cell_type": "code",
      "execution_count": 8,
      "metadata": {},
      "outputs": [],
      "source": [
        "# from imblearn.over_sampling import SMOTE\n",
        "\n",
        "# # Apply SMOTE to balance the dataset\n",
        "# smote = SMOTE(sampling_strategy=0.8, random_state=42)  # Make class 1 = 50% of class 0\n",
        "# X_train_balanced, y_train_balanced = smote.fit_resample(X_train, y_train.values.ravel())\n",
        "\n",
        "# print(\"Before SMOTE:\", y_train.value_counts())  # Check class distribution\n",
        "# print(\"After SMOTE:\", pd.Series(y_train_balanced).value_counts())"
      ]
    },
    {
      "cell_type": "markdown",
      "metadata": {
        "id": "f-PFriT_AoFv"
      },
      "source": [
        "#### Create an Evaluate Function to give all metrics after model Training:"
      ]
    },
    {
      "cell_type": "code",
      "execution_count": 9,
      "metadata": {
        "id": "F6qoR6CXAoFw"
      },
      "outputs": [],
      "source": [
        "## All classification models:\n",
        "from sklearn.linear_model import LogisticRegression\n",
        "from sklearn.tree import DecisionTreeClassifier\n",
        "from sklearn.svm import SVC\n",
        "from sklearn.naive_bayes import GaussianNB\n",
        "from sklearn.neighbors import KNeighborsClassifier\n",
        "from sklearn.ensemble import AdaBoostClassifier\n",
        "from sklearn.ensemble import GradientBoostingClassifier\n",
        "from xgboost import XGBClassifier\n",
        "\n",
        "models = {\n",
        "   'Logistic Regression': LogisticRegression(),\n",
        "   'Decision Tree': DecisionTreeClassifier(),\n",
        "   # 'SVM': SVC(),\n",
        "   'Guassian': GaussianNB(),\n",
        "   # 'KNN': KNeighborsClassifier(),\n",
        "   'AdaBoost': AdaBoostClassifier(),\n",
        "   'Gradient Boost': GradientBoostingClassifier(),\n",
        "   'XGBoost': XGBClassifier()\n",
        "}"
      ]
    },
    {
      "cell_type": "code",
      "execution_count": 10,
      "metadata": {
        "id": "Lk2_k5cxAoFx"
      },
      "outputs": [
        {
          "name": "stdout",
          "output_type": "stream",
          "text": [
            "Model performance of Logistic Regression for Test set\n",
            "- Accuracy score: 0.6902\n",
            "===================================\n",
            "\n",
            "\n",
            "Model performance of Decision Tree for Test set\n",
            "- Accuracy score: 0.6132\n",
            "===================================\n",
            "\n",
            "\n",
            "Model performance of Guassian for Test set\n",
            "- Accuracy score: 0.6850\n",
            "===================================\n",
            "\n",
            "\n",
            "Model performance of AdaBoost for Test set\n",
            "- Accuracy score: 0.6870\n",
            "===================================\n",
            "\n",
            "\n",
            "Model performance of Gradient Boost for Test set\n",
            "- Accuracy score: 0.6943\n",
            "===================================\n",
            "\n",
            "\n",
            "Model performance of XGBoost for Test set\n",
            "- Accuracy score: 0.6801\n",
            "===================================\n",
            "\n",
            "\n"
          ]
        }
      ],
      "source": [
        "from sklearn.metrics import accuracy_score\n",
        "\n",
        "model_list = []\n",
        "acc_list = []\n",
        "\n",
        "## Fit each model, predict and store it with model's accuracy\n",
        "for name, model in models.items():\n",
        "   # Fitting model\n",
        "   model.fit(X_train,y_train.values.ravel())\n",
        "   # Prediction\n",
        "   y_pred = model.predict(X_test)\n",
        "   \n",
        "   acc = accuracy_score(y_test,y_pred)\n",
        "   model_list.append(name)\n",
        "   acc_list.append(acc)\n",
        "   \n",
        "   print(f'Model performance of {name} for Test set')\n",
        "   print(\"- Accuracy score: {:.4f}\".format(acc))\n",
        "   \n",
        "   print('='*35)\n",
        "   print('\\n')"
      ]
    },
    {
      "cell_type": "markdown",
      "metadata": {
        "id": "EeqH9o-YCnU-"
      },
      "source": [
        "XGboost and Logistic Regression came out to best models"
      ]
    },
    {
      "cell_type": "code",
      "execution_count": 11,
      "metadata": {
        "id": "sCpJuDH7AoFx"
      },
      "outputs": [],
      "source": [
        "## Fitting Logistic Regression to its best:\n",
        "LR = LogisticRegression()\n",
        "\n",
        "param_grid = [\n",
        "   {\n",
        "      'penalty': ['l1', 'l2'],\n",
        "      'solver': ['liblinear'],\n",
        "      'max_iter': [100, 200, 500]\n",
        "   },  {\n",
        "      'penalty': ['l2'],\n",
        "      'solver': ['lbfgs', 'newton-cg', 'sag'],  # solvers that only support l2\n",
        "      'max_iter': [100, 200, 500]\n",
        "   },  {\n",
        "      'penalty': ['l1','l2','elasticnet'],\n",
        "      'solver': ['saga'], \n",
        "      'max_iter': [100, 200, 500],\n",
        "      'l1_ratio': [0.1, 0.5, 0.9],\n",
        "   }\n",
        "]"
      ]
    },
    {
      "cell_type": "code",
      "execution_count": 12,
      "metadata": {
        "id": "Uqm6Lmh9Z0TS"
      },
      "outputs": [
        {
          "name": "stdout",
          "output_type": "stream",
          "text": [
            "Fitting 3 folds for each of 42 candidates, totalling 126 fits\n"
          ]
        }
      ],
      "source": [
        "from sklearn.model_selection import RandomizedSearchCV, GridSearchCV\n",
        "\n",
        "clf = GridSearchCV(LR, param_grid=param_grid, cv=3, verbose=2, n_jobs=-1, error_score='raise')\n",
        "best_LR = clf.fit(X_train, y_train.values.ravel())"
      ]
    },
    {
      "cell_type": "code",
      "execution_count": 13,
      "metadata": {
        "id": "1sIGIWNPxZF6"
      },
      "outputs": [
        {
          "name": "stdout",
          "output_type": "stream",
          "text": [
            "Best parameters found:  {'max_iter': 100, 'penalty': 'l1', 'solver': 'liblinear'}\n",
            "Best Accuracy from Logistic Regression:  0.6901871522508852\n"
          ]
        }
      ],
      "source": [
        "Best_LR = best_LR.best_params_\n",
        "\n",
        "# Get the best parameters and score\n",
        "print(\"Best parameters found: \", Best_LR)\n",
        "\n",
        "pred_LR = best_LR.predict(X_test)\n",
        "print(\"Best Accuracy from Logistic Regression: \", accuracy_score(y_test, pred_LR))"
      ]
    },
    {
      "cell_type": "code",
      "execution_count": 14,
      "metadata": {
        "id": "qAOgB5EgjbCd"
      },
      "outputs": [],
      "source": [
        "## Parameters for XGBoost\n",
        "Param_dict = {\n",
        "   'max_depth': [3, 4, 5, 6, 8, 10],\n",
        "   'min_child_weight': [3, 5, 7],\n",
        "   'gamma': [0, 0.1, 0.2, 0.3, 0.4],\n",
        "   'max_iter': [100, 200, 500],\n",
        "}"
      ]
    },
    {
      "cell_type": "code",
      "execution_count": 15,
      "metadata": {
        "id": "XFGvritHeDYa"
      },
      "outputs": [
        {
          "name": "stdout",
          "output_type": "stream",
          "text": [
            "Fitting 3 folds for each of 30 candidates, totalling 90 fits\n"
          ]
        },
        {
          "name": "stderr",
          "output_type": "stream",
          "text": [
            "c:\\D Drive\\coding\\Python-projects\\Loan_Prediction\\VirtualEnv\\Lib\\site-packages\\xgboost\\core.py:158: UserWarning: [15:09:13] WARNING: C:\\buildkite-agent\\builds\\buildkite-windows-cpu-autoscaling-group-i-08cbc0333d8d4aae1-1\\xgboost\\xgboost-ci-windows\\src\\learner.cc:740: \n",
            "Parameters: { \"max_iter\" } are not used.\n",
            "\n",
            "  warnings.warn(smsg, UserWarning)\n"
          ]
        }
      ],
      "source": [
        "from sklearn.model_selection import RandomizedSearchCV\n",
        "\n",
        "XG = XGBClassifier()\n",
        "\n",
        "clf = RandomizedSearchCV(XG, param_distributions=Param_dict, n_iter=30, cv=3, verbose=2, n_jobs=-1)\n",
        "best_XG = clf.fit(X_train, y_train.values.reshape(-1,1))"
      ]
    },
    {
      "cell_type": "code",
      "execution_count": 16,
      "metadata": {
        "id": "6DhBgLV3msKT"
      },
      "outputs": [
        {
          "name": "stdout",
          "output_type": "stream",
          "text": [
            "Best parameters found:  {'min_child_weight': 3, 'max_iter': 200, 'max_depth': 3, 'gamma': 0.3}\n",
            "Best Accuracy XGBoost:  0.6949081099308717\n"
          ]
        }
      ],
      "source": [
        "Best_XG = best_XG.best_params_\n",
        "\n",
        "# Get the best parameters and score\n",
        "print(\"Best parameters found: \", Best_XG)\n",
        "\n",
        "pred_XG = best_XG.predict(X_test)\n",
        "print(\"Best Accuracy XGBoost: \", accuracy_score(y_test, pred_XG))"
      ]
    },
    {
      "cell_type": "markdown",
      "metadata": {
        "id": "pltZTWku1tYc"
      },
      "source": [
        "#### Now, We will Fit a Neural Network for Same problem and compare its performance with Normal Machine Learning:"
      ]
    },
    {
      "cell_type": "code",
      "execution_count": 17,
      "metadata": {
        "id": "88BwbpZx0A0j"
      },
      "outputs": [],
      "source": [
        "import tensorflow as tf\n",
        "from tensorflow import keras as kr"
      ]
    },
    {
      "cell_type": "code",
      "execution_count": 18,
      "metadata": {
        "id": "RDbikC_q2CWa"
      },
      "outputs": [],
      "source": [
        "## Creating Neural Network:\n",
        "model = kr.Sequential() # Network base\n",
        "model.add(kr.layers.Input(shape=(20,))) # Input layer\n",
        "\n",
        "## Neural Network\n",
        "# model.add(kr.layers.Dense(256, activation='relu'))\n",
        "model.add(kr.layers.Dense(128, activation='relu'))\n",
        "model.add(kr.layers.Dense(64, activation='relu'))\n",
        "model.add(kr.layers.Dense(32, activation='relu'))\n",
        "model.add(kr.layers.Dense(16, activation='relu'))\n",
        "\n",
        "## Output layer\n",
        "model.add(kr.layers.Dense(1, activation='sigmoid'))"
      ]
    },
    {
      "cell_type": "code",
      "execution_count": 19,
      "metadata": {
        "colab": {
          "base_uri": "https://localhost:8080/",
          "height": 289
        },
        "id": "nlxYv3Hi8laD",
        "outputId": "adedcbb1-d8ef-4666-beab-2d5cebc01186"
      },
      "outputs": [
        {
          "data": {
            "text/html": [
              "<pre style=\"white-space:pre;overflow-x:auto;line-height:normal;font-family:Menlo,'DejaVu Sans Mono',consolas,'Courier New',monospace\"><span style=\"font-weight: bold\">Model: \"sequential\"</span>\n",
              "</pre>\n"
            ],
            "text/plain": [
              "\u001b[1mModel: \"sequential\"\u001b[0m\n"
            ]
          },
          "metadata": {},
          "output_type": "display_data"
        },
        {
          "data": {
            "text/html": [
              "<pre style=\"white-space:pre;overflow-x:auto;line-height:normal;font-family:Menlo,'DejaVu Sans Mono',consolas,'Courier New',monospace\">┏━━━━━━━━━━━━━━━━━━━━━━━━━━━━━━━━━┳━━━━━━━━━━━━━━━━━━━━━━━━┳━━━━━━━━━━━━━━━┓\n",
              "┃<span style=\"font-weight: bold\"> Layer (type)                    </span>┃<span style=\"font-weight: bold\"> Output Shape           </span>┃<span style=\"font-weight: bold\">       Param # </span>┃\n",
              "┡━━━━━━━━━━━━━━━━━━━━━━━━━━━━━━━━━╇━━━━━━━━━━━━━━━━━━━━━━━━╇━━━━━━━━━━━━━━━┩\n",
              "│ dense (<span style=\"color: #0087ff; text-decoration-color: #0087ff\">Dense</span>)                   │ (<span style=\"color: #00d7ff; text-decoration-color: #00d7ff\">None</span>, <span style=\"color: #00af00; text-decoration-color: #00af00\">128</span>)            │         <span style=\"color: #00af00; text-decoration-color: #00af00\">2,688</span> │\n",
              "├─────────────────────────────────┼────────────────────────┼───────────────┤\n",
              "│ dense_1 (<span style=\"color: #0087ff; text-decoration-color: #0087ff\">Dense</span>)                 │ (<span style=\"color: #00d7ff; text-decoration-color: #00d7ff\">None</span>, <span style=\"color: #00af00; text-decoration-color: #00af00\">64</span>)             │         <span style=\"color: #00af00; text-decoration-color: #00af00\">8,256</span> │\n",
              "├─────────────────────────────────┼────────────────────────┼───────────────┤\n",
              "│ dense_2 (<span style=\"color: #0087ff; text-decoration-color: #0087ff\">Dense</span>)                 │ (<span style=\"color: #00d7ff; text-decoration-color: #00d7ff\">None</span>, <span style=\"color: #00af00; text-decoration-color: #00af00\">32</span>)             │         <span style=\"color: #00af00; text-decoration-color: #00af00\">2,080</span> │\n",
              "├─────────────────────────────────┼────────────────────────┼───────────────┤\n",
              "│ dense_3 (<span style=\"color: #0087ff; text-decoration-color: #0087ff\">Dense</span>)                 │ (<span style=\"color: #00d7ff; text-decoration-color: #00d7ff\">None</span>, <span style=\"color: #00af00; text-decoration-color: #00af00\">16</span>)             │           <span style=\"color: #00af00; text-decoration-color: #00af00\">528</span> │\n",
              "├─────────────────────────────────┼────────────────────────┼───────────────┤\n",
              "│ dense_4 (<span style=\"color: #0087ff; text-decoration-color: #0087ff\">Dense</span>)                 │ (<span style=\"color: #00d7ff; text-decoration-color: #00d7ff\">None</span>, <span style=\"color: #00af00; text-decoration-color: #00af00\">1</span>)              │            <span style=\"color: #00af00; text-decoration-color: #00af00\">17</span> │\n",
              "└─────────────────────────────────┴────────────────────────┴───────────────┘\n",
              "</pre>\n"
            ],
            "text/plain": [
              "┏━━━━━━━━━━━━━━━━━━━━━━━━━━━━━━━━━┳━━━━━━━━━━━━━━━━━━━━━━━━┳━━━━━━━━━━━━━━━┓\n",
              "┃\u001b[1m \u001b[0m\u001b[1mLayer (type)                   \u001b[0m\u001b[1m \u001b[0m┃\u001b[1m \u001b[0m\u001b[1mOutput Shape          \u001b[0m\u001b[1m \u001b[0m┃\u001b[1m \u001b[0m\u001b[1m      Param #\u001b[0m\u001b[1m \u001b[0m┃\n",
              "┡━━━━━━━━━━━━━━━━━━━━━━━━━━━━━━━━━╇━━━━━━━━━━━━━━━━━━━━━━━━╇━━━━━━━━━━━━━━━┩\n",
              "│ dense (\u001b[38;5;33mDense\u001b[0m)                   │ (\u001b[38;5;45mNone\u001b[0m, \u001b[38;5;34m128\u001b[0m)            │         \u001b[38;5;34m2,688\u001b[0m │\n",
              "├─────────────────────────────────┼────────────────────────┼───────────────┤\n",
              "│ dense_1 (\u001b[38;5;33mDense\u001b[0m)                 │ (\u001b[38;5;45mNone\u001b[0m, \u001b[38;5;34m64\u001b[0m)             │         \u001b[38;5;34m8,256\u001b[0m │\n",
              "├─────────────────────────────────┼────────────────────────┼───────────────┤\n",
              "│ dense_2 (\u001b[38;5;33mDense\u001b[0m)                 │ (\u001b[38;5;45mNone\u001b[0m, \u001b[38;5;34m32\u001b[0m)             │         \u001b[38;5;34m2,080\u001b[0m │\n",
              "├─────────────────────────────────┼────────────────────────┼───────────────┤\n",
              "│ dense_3 (\u001b[38;5;33mDense\u001b[0m)                 │ (\u001b[38;5;45mNone\u001b[0m, \u001b[38;5;34m16\u001b[0m)             │           \u001b[38;5;34m528\u001b[0m │\n",
              "├─────────────────────────────────┼────────────────────────┼───────────────┤\n",
              "│ dense_4 (\u001b[38;5;33mDense\u001b[0m)                 │ (\u001b[38;5;45mNone\u001b[0m, \u001b[38;5;34m1\u001b[0m)              │            \u001b[38;5;34m17\u001b[0m │\n",
              "└─────────────────────────────────┴────────────────────────┴───────────────┘\n"
            ]
          },
          "metadata": {},
          "output_type": "display_data"
        },
        {
          "data": {
            "text/html": [
              "<pre style=\"white-space:pre;overflow-x:auto;line-height:normal;font-family:Menlo,'DejaVu Sans Mono',consolas,'Courier New',monospace\"><span style=\"font-weight: bold\"> Total params: </span><span style=\"color: #00af00; text-decoration-color: #00af00\">13,569</span> (53.00 KB)\n",
              "</pre>\n"
            ],
            "text/plain": [
              "\u001b[1m Total params: \u001b[0m\u001b[38;5;34m13,569\u001b[0m (53.00 KB)\n"
            ]
          },
          "metadata": {},
          "output_type": "display_data"
        },
        {
          "data": {
            "text/html": [
              "<pre style=\"white-space:pre;overflow-x:auto;line-height:normal;font-family:Menlo,'DejaVu Sans Mono',consolas,'Courier New',monospace\"><span style=\"font-weight: bold\"> Trainable params: </span><span style=\"color: #00af00; text-decoration-color: #00af00\">13,569</span> (53.00 KB)\n",
              "</pre>\n"
            ],
            "text/plain": [
              "\u001b[1m Trainable params: \u001b[0m\u001b[38;5;34m13,569\u001b[0m (53.00 KB)\n"
            ]
          },
          "metadata": {},
          "output_type": "display_data"
        },
        {
          "data": {
            "text/html": [
              "<pre style=\"white-space:pre;overflow-x:auto;line-height:normal;font-family:Menlo,'DejaVu Sans Mono',consolas,'Courier New',monospace\"><span style=\"font-weight: bold\"> Non-trainable params: </span><span style=\"color: #00af00; text-decoration-color: #00af00\">0</span> (0.00 B)\n",
              "</pre>\n"
            ],
            "text/plain": [
              "\u001b[1m Non-trainable params: \u001b[0m\u001b[38;5;34m0\u001b[0m (0.00 B)\n"
            ]
          },
          "metadata": {},
          "output_type": "display_data"
        }
      ],
      "source": [
        "model.summary()"
      ]
    },
    {
      "cell_type": "code",
      "execution_count": 20,
      "metadata": {
        "colab": {
          "base_uri": "https://localhost:8080/"
        },
        "id": "Z0Ne5FuW7AW7",
        "outputId": "0ebf94a8-dbde-4ffb-c3d9-8458d941c901"
      },
      "outputs": [
        {
          "name": "stdout",
          "output_type": "stream",
          "text": [
            "Epoch 1/20\n",
            "\u001b[1m1483/1483\u001b[0m \u001b[32m━━━━━━━━━━━━━━━━━━━━\u001b[0m\u001b[37m\u001b[0m \u001b[1m11s\u001b[0m 5ms/step - accuracy: 0.6449 - loss: 0.6238 - val_accuracy: 0.6877 - val_loss: 0.5898\n",
            "Epoch 2/20\n",
            "\u001b[1m1483/1483\u001b[0m \u001b[32m━━━━━━━━━━━━━━━━━━━━\u001b[0m\u001b[37m\u001b[0m \u001b[1m6s\u001b[0m 4ms/step - accuracy: 0.6808 - loss: 0.5974 - val_accuracy: 0.6886 - val_loss: 0.5896\n",
            "Epoch 3/20\n",
            "\u001b[1m1483/1483\u001b[0m \u001b[32m━━━━━━━━━━━━━━━━━━━━\u001b[0m\u001b[37m\u001b[0m \u001b[1m5s\u001b[0m 4ms/step - accuracy: 0.6802 - loss: 0.5952 - val_accuracy: 0.6938 - val_loss: 0.5867\n",
            "Epoch 4/20\n",
            "\u001b[1m1483/1483\u001b[0m \u001b[32m━━━━━━━━━━━━━━━━━━━━\u001b[0m\u001b[37m\u001b[0m \u001b[1m5s\u001b[0m 4ms/step - accuracy: 0.6795 - loss: 0.5957 - val_accuracy: 0.6884 - val_loss: 0.5875\n",
            "Epoch 5/20\n",
            "\u001b[1m1483/1483\u001b[0m \u001b[32m━━━━━━━━━━━━━━━━━━━━\u001b[0m\u001b[37m\u001b[0m \u001b[1m6s\u001b[0m 4ms/step - accuracy: 0.6822 - loss: 0.5897 - val_accuracy: 0.6951 - val_loss: 0.5843\n",
            "Epoch 6/20\n",
            "\u001b[1m1483/1483\u001b[0m \u001b[32m━━━━━━━━━━━━━━━━━━━━\u001b[0m\u001b[37m\u001b[0m \u001b[1m6s\u001b[0m 4ms/step - accuracy: 0.6851 - loss: 0.5860 - val_accuracy: 0.6906 - val_loss: 0.5919\n",
            "Epoch 7/20\n",
            "\u001b[1m1483/1483\u001b[0m \u001b[32m━━━━━━━━━━━━━━━━━━━━\u001b[0m\u001b[37m\u001b[0m \u001b[1m5s\u001b[0m 3ms/step - accuracy: 0.6865 - loss: 0.5876 - val_accuracy: 0.6921 - val_loss: 0.5848\n",
            "Epoch 8/20\n",
            "\u001b[1m1483/1483\u001b[0m \u001b[32m━━━━━━━━━━━━━━━━━━━━\u001b[0m\u001b[37m\u001b[0m \u001b[1m5s\u001b[0m 4ms/step - accuracy: 0.6862 - loss: 0.5885 - val_accuracy: 0.6944 - val_loss: 0.5858\n",
            "Epoch 9/20\n",
            "\u001b[1m1483/1483\u001b[0m \u001b[32m━━━━━━━━━━━━━━━━━━━━\u001b[0m\u001b[37m\u001b[0m \u001b[1m5s\u001b[0m 3ms/step - accuracy: 0.6884 - loss: 0.5838 - val_accuracy: 0.6920 - val_loss: 0.5882\n",
            "Epoch 10/20\n",
            "\u001b[1m1483/1483\u001b[0m \u001b[32m━━━━━━━━━━━━━━━━━━━━\u001b[0m\u001b[37m\u001b[0m \u001b[1m5s\u001b[0m 3ms/step - accuracy: 0.6858 - loss: 0.5859 - val_accuracy: 0.6936 - val_loss: 0.5860\n",
            "Epoch 11/20\n",
            "\u001b[1m1483/1483\u001b[0m \u001b[32m━━━━━━━━━━━━━━━━━━━━\u001b[0m\u001b[37m\u001b[0m \u001b[1m5s\u001b[0m 4ms/step - accuracy: 0.6848 - loss: 0.5862 - val_accuracy: 0.6931 - val_loss: 0.5879\n",
            "Epoch 12/20\n",
            "\u001b[1m1483/1483\u001b[0m \u001b[32m━━━━━━━━━━━━━━━━━━━━\u001b[0m\u001b[37m\u001b[0m \u001b[1m7s\u001b[0m 5ms/step - accuracy: 0.6881 - loss: 0.5850 - val_accuracy: 0.6898 - val_loss: 0.5881\n",
            "Epoch 13/20\n",
            "\u001b[1m1483/1483\u001b[0m \u001b[32m━━━━━━━━━━━━━━━━━━━━\u001b[0m\u001b[37m\u001b[0m \u001b[1m8s\u001b[0m 5ms/step - accuracy: 0.6903 - loss: 0.5808 - val_accuracy: 0.6901 - val_loss: 0.5869\n",
            "Epoch 14/20\n",
            "\u001b[1m1483/1483\u001b[0m \u001b[32m━━━━━━━━━━━━━━━━━━━━\u001b[0m\u001b[37m\u001b[0m \u001b[1m6s\u001b[0m 4ms/step - accuracy: 0.6943 - loss: 0.5761 - val_accuracy: 0.6865 - val_loss: 0.5943\n",
            "Epoch 15/20\n",
            "\u001b[1m1483/1483\u001b[0m \u001b[32m━━━━━━━━━━━━━━━━━━━━\u001b[0m\u001b[37m\u001b[0m \u001b[1m7s\u001b[0m 4ms/step - accuracy: 0.6928 - loss: 0.5771 - val_accuracy: 0.6900 - val_loss: 0.5900\n",
            "Epoch 16/20\n",
            "\u001b[1m1483/1483\u001b[0m \u001b[32m━━━━━━━━━━━━━━━━━━━━\u001b[0m\u001b[37m\u001b[0m \u001b[1m10s\u001b[0m 5ms/step - accuracy: 0.6950 - loss: 0.5745 - val_accuracy: 0.6908 - val_loss: 0.5907\n",
            "Epoch 17/20\n",
            "\u001b[1m1483/1483\u001b[0m \u001b[32m━━━━━━━━━━━━━━━━━━━━\u001b[0m\u001b[37m\u001b[0m \u001b[1m6s\u001b[0m 4ms/step - accuracy: 0.6960 - loss: 0.5724 - val_accuracy: 0.6854 - val_loss: 0.5964\n",
            "Epoch 18/20\n",
            "\u001b[1m1483/1483\u001b[0m \u001b[32m━━━━━━━━━━━━━━━━━━━━\u001b[0m\u001b[37m\u001b[0m \u001b[1m6s\u001b[0m 4ms/step - accuracy: 0.6965 - loss: 0.5706 - val_accuracy: 0.6895 - val_loss: 0.5991\n",
            "Epoch 19/20\n",
            "\u001b[1m1483/1483\u001b[0m \u001b[32m━━━━━━━━━━━━━━━━━━━━\u001b[0m\u001b[37m\u001b[0m \u001b[1m6s\u001b[0m 4ms/step - accuracy: 0.6987 - loss: 0.5677 - val_accuracy: 0.6894 - val_loss: 0.5933\n",
            "Epoch 20/20\n",
            "\u001b[1m1483/1483\u001b[0m \u001b[32m━━━━━━━━━━━━━━━━━━━━\u001b[0m\u001b[37m\u001b[0m \u001b[1m6s\u001b[0m 4ms/step - accuracy: 0.7011 - loss: 0.5682 - val_accuracy: 0.6852 - val_loss: 0.5985\n"
          ]
        },
        {
          "data": {
            "text/plain": [
              "<keras.src.callbacks.history.History at 0x2306e9ac690>"
            ]
          },
          "execution_count": 20,
          "metadata": {},
          "output_type": "execute_result"
        }
      ],
      "source": [
        "model.compile(loss='binary_crossentropy', optimizer='adam', metrics=['accuracy'], )\n",
        "\n",
        "model.fit(X_train, y_train, epochs=20, batch_size=32, validation_data=(X_test, y_test))"
      ]
    },
    {
      "cell_type": "code",
      "execution_count": 21,
      "metadata": {
        "id": "bI4gGb6p4rtc"
      },
      "outputs": [
        {
          "name": "stdout",
          "output_type": "stream",
          "text": [
            "\u001b[1m371/371\u001b[0m \u001b[32m━━━━━━━━━━━━━━━━━━━━\u001b[0m\u001b[37m\u001b[0m \u001b[1m1s\u001b[0m 3ms/step\n",
            "Best Accuracy Neural Network:  0.6852132861237565\n"
          ]
        }
      ],
      "source": [
        "pred_ANN = model.predict(X_test)\n",
        "pred_ANN_labels = (pred_ANN > 0.5).astype(int)\n",
        "\n",
        "print(\"Best Accuracy Neural Network: \", accuracy_score(y_test, pred_ANN_labels))"
      ]
    },
    {
      "cell_type": "markdown",
      "metadata": {
        "id": "K_kN4e2Y47Lb"
      },
      "source": [
        "Now, we will Tune this Neural Network:"
      ]
    },
    {
      "cell_type": "code",
      "execution_count": 22,
      "metadata": {
        "id": "nkAPn-ky6AbA"
      },
      "outputs": [],
      "source": [
        "## Function to build mode using various values from hyperparameters\n",
        "def Build_best_classifier(hp):\n",
        "   model = kr.Sequential()\n",
        "   model.add(kr.Input(shape=(20,)))\n",
        "   \n",
        "   for i in range(hp.Int('num_layers', min_value=1, max_value=5)):\n",
        "      ## Adding model layer structure\n",
        "      model.add(kr.layers.Dense(units=hp.Int(\"Unit_count\",16,128, step=16),\n",
        "         kernel_initializer='he_normal', kernel_regularizer=kr.regularizers.l2(0.01))\n",
        "      )\n",
        "      \n",
        "      ## Adding activation func and batch normalizer\n",
        "      model.add(kr.layers.LeakyReLU(negative_slope=0.2))\n",
        "      model.add(kr.layers.BatchNormalization())\n",
        "      \n",
        "      ## Adding a dropout layer\n",
        "      rate = hp.Float('rate', min_value=0.0, max_value=0.5, step=0.1)\n",
        "      if hp.Boolean('dropout'):\n",
        "         model.add(kr.layers.Dropout(rate))\n",
        "      \n",
        "   ## Output layer\n",
        "   model.add(kr.layers.Dense(1, activation='sigmoid'))\n",
        "   \n",
        "   model.compile(optimizer=kr.optimizers.Adam(hp.Choice('learning_rate', [0.1, 1e-2, 1e-3])), loss='binary_crossentropy', metrics=['accuracy'])\n",
        "   \n",
        "   return model"
      ]
    },
    {
      "cell_type": "code",
      "execution_count": 23,
      "metadata": {
        "id": "49a3kb5tYuzx"
      },
      "outputs": [
        {
          "name": "stdout",
          "output_type": "stream",
          "text": [
            "Trial 10 Complete [00h 01m 57s]\n",
            "val_accuracy: 0.6816725730895996\n",
            "\n",
            "Best val_accuracy So Far: 0.6843702793121338\n",
            "Total elapsed time: 00h 14m 09s\n"
          ]
        }
      ],
      "source": [
        "tuner = kt.RandomSearch(Build_best_classifier, objective='val_accuracy', max_trials=10, directory='project', project_name='Loan_default')\n",
        "\n",
        "## Fitting model\n",
        "tuner.search(X_train, y_train, epochs=2, validation_data=(X_test,y_test))"
      ]
    },
    {
      "cell_type": "markdown",
      "metadata": {},
      "source": [
        "> #### Note:  Hyper tuning Neural network or even using ANN dont show any significant improvement. <br> XGBoost gives Best accuracy with less computations."
      ]
    }
  ],
  "metadata": {
    "accelerator": "GPU",
    "colab": {
      "gpuType": "T4",
      "provenance": []
    },
    "kernelspec": {
      "display_name": "Python (Loan Prediction)",
      "language": "python",
      "name": "virtualenv"
    },
    "language_info": {
      "codemirror_mode": {
        "name": "ipython",
        "version": 3
      },
      "file_extension": ".py",
      "mimetype": "text/x-python",
      "name": "python",
      "nbconvert_exporter": "python",
      "pygments_lexer": "ipython3",
      "version": "3.11.9"
    }
  },
  "nbformat": 4,
  "nbformat_minor": 0
}
